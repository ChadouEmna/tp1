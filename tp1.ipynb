{
 "cells": [
  {
   "cell_type": "markdown",
   "metadata": {},
   "source": [
    "## Exercice 1:<h2>\n",
    ">On considère le polynôme $p(x) = (x - 1)^6$. \n",
    ">\n",
    ">En développant on\n",
    ">peut écrire ce même polynôme sous la forme\n",
    ">$f(x) = x^6 - 6x^5 + 15x^4 - 20x^3 + 15x^2 - 6x + 1.$\n",
    ">\n",
    ">1) Avec Matlab évaluer $p(x)$ et $f(x)$ pour $x$ allant de $.998$ à\n",
    ">$1.002$ en choisissant des pas de $.0001$.\n",
    ">\n",
    ">2) Faire un graphique de $f(x)$ et $p(x)$. Commenter."
   ]
  },
  {
   "cell_type": "markdown",
   "metadata": {},
   "source": [
    "#### 1) "
   ]
  },
  {
   "cell_type": "code",
   "execution_count": 3,
   "metadata": {},
   "outputs": [],
   "source": [
    "def p(x):\n",
    "    ''' polynome p(x)=(x-1)⁶'''\n",
    "    return (x-1)**6 \n",
    "def f(x):\n",
    "    '''polynome développer de f(x)'''\n",
    "    return x**6 - 6*x**5 + 15*x**4 - 20*x**3 + 15*x**2 - 6*x + 1\n",
    "    "
   ]
  },
  {
   "cell_type": "code",
   "execution_count": 4,
   "metadata": {},
   "outputs": [
    {
     "name": "stdout",
     "output_type": "stream",
     "text": [
      "p(0.998)=6.400000000000034e-17 \n",
      "f(0.998)=1.7763568394002505e-15 \n",
      "p(0.9981)=4.70458810000019e-17 \n",
      "f(0.9981)=1.7763568394002505e-15 \n",
      "p(0.9982)=3.40122240000027e-17 \n",
      "f(0.9982)=0.0 \n",
      "p(0.9983)=2.4137569000002966e-17 \n",
      "f(0.9983)=-2.6645352591003757e-15 \n",
      "p(0.9984)=1.6777216000002883e-17 \n",
      "f(0.9984)=1.7763568394002505e-15 \n",
      "p(0.9985)=1.1390624999997532e-17 \n",
      "f(0.9985)=-8.881784197001252e-16 \n",
      "p(0.9986)=7.529535999998606e-18 \n",
      "f(0.9986)=1.7763568394002505e-15 \n",
      "p(0.9987)=4.8268089999992834e-18 \n",
      "f(0.9987)=-3.552713678800501e-15 \n",
      "p(0.9988)=2.9859839999996844e-18 \n",
      "f(0.9988)=-8.881784197001252e-16 \n",
      "p(0.9989)=1.7715609999999022e-18 \n",
      "f(0.9989)=-8.881784197001252e-16 \n",
      "p(0.999)=1.0000000000000053e-18 \n",
      "f(0.999)=0.0 \n",
      "p(0.9991)=5.314410000000422e-19 \n",
      "f(0.9991)=-1.7763568394002505e-15 \n",
      "p(0.9992)=2.6214400000004505e-19 \n",
      "f(0.9992)=-8.881784197001252e-16 \n",
      "p(0.9993)=1.1764900000003422e-19 \n",
      "f(0.9993)=8.881784197001252e-16 \n",
      "p(0.9994)=4.6656000000020966e-20 \n",
      "f(0.9994)=-1.7763568394002505e-15 \n",
      "p(0.9995)=1.5624999999989676e-20 \n",
      "f(0.9995)=1.7763568394002505e-15 \n",
      "p(0.9996)=4.0959999999972936e-21 \n",
      "f(0.9996)=-1.7763568394002505e-15 \n",
      "p(0.9997)=7.289999999995183e-22 \n",
      "f(0.9997)=3.552713678800501e-15 \n",
      "p(0.9998)=6.399999999995771e-23 \n",
      "f(0.9998)=-2.6645352591003757e-15 \n",
      "p(0.9999)=9.999999999993393e-25 \n",
      "f(0.9999)=3.552713678800501e-15 \n",
      "p(1.0)=0.0 \n",
      "f(1.0)=0.0 \n",
      "p(1.001)=9.999999999993393e-19 \n",
      "f(1.001)=-2.6645352591003757e-15 \n",
      "p(1.002)=6.400000000000034e-17 \n",
      "f(1.002)=1.7763568394002505e-15 \n"
     ]
    }
   ],
   "source": [
    "# le calcul de p(0.998)\n",
    "print('p({})={} '.format(0.998,p(0.998)))\n",
    "# le calcul de f(0.998)\n",
    "print('f({})={} '.format(0.998,f(0.998)))\n",
    "# le calcul de p(0.9981)\n",
    "print('p({})={} '.format(0.9981,p(0.9981)))\n",
    "# le calcul de f(0.9981)\n",
    "print('f({})={} '.format(0.9981,f(0.9981)))\n",
    "# le calcul de p(0.9982)\n",
    "print('p({})={} '.format(0.9982,p(0.9982)))\n",
    "# le calcul de f(0.9982)\n",
    "print('f({})={} '.format(0.9982,f(0.9982)))\n",
    "# le calcul de p(0.9983)\n",
    "print('p({})={} '.format(0.9983,p(0.9983)))\n",
    "# le calcul de f(0.9983)\n",
    "print('f({})={} '.format(0.9983,f(0.9983)))\n",
    "# le calcul de p(0.9984)\n",
    "print('p({})={} '.format(0.9984,p(0.9984)))\n",
    "# le calcul de f(0.9984)\n",
    "print('f({})={} '.format(0.9984,f(0.9984)))\n",
    "# le calcul de p(0.9985)\n",
    "print('p({})={} '.format(0.9985,p(0.9985)))\n",
    "# le calcul de f(0.9985)\n",
    "print('f({})={} '.format(0.9985,f(0.9985)))\n",
    "# le calcul de p(0.9986)\n",
    "print('p({})={} '.format(0.9986,p(0.9986)))\n",
    "# le calcul de f(0.9986)\n",
    "print('f({})={} '.format(0.9986,f(0.9986)))\n",
    "# le calcul de p(0.9987)\n",
    "print('p({})={} '.format(0.9987,p(0.9987)))\n",
    "# le calcul de f(0.9987)\n",
    "print('f({})={} '.format(0.9987,f(0.9987)))\n",
    "# le calcul de p(0.9988)\n",
    "print('p({})={} '.format(0.9988,p(0.9988)))\n",
    "# le calcul de f(0.9988)\n",
    "print('f({})={} '.format(0.9988,f(0.9988)))\n",
    "# le calcul de p(0.9989)\n",
    "print('p({})={} '.format(0.9989,p(0.9989)))\n",
    "# le calcul de f(0.9989)\n",
    "print('f({})={} '.format(0.9989,f(0.9989)))\n",
    "# le calcul de p(0.999)\n",
    "print('p({})={} '.format(0.999,p(0.999)))\n",
    "# le calcul de f(0.999)\n",
    "print('f({})={} '.format(0.999,f(0.999)))\n",
    "# le calcul de p(0.9991)\n",
    "print('p({})={} '.format(0.9991,p(0.9991)))\n",
    "# le calcul de f(0.9991)\n",
    "print('f({})={} '.format(0.9991,f(0.9991)))\n",
    "# le calcul de p(0.9992)\n",
    "print('p({})={} '.format(0.9992,p(0.9992)))\n",
    "# le calcul de f(0.9992)\n",
    "print('f({})={} '.format(0.9992,f(0.9992)))\n",
    "# le calcul de p(0.9993)\n",
    "print('p({})={} '.format(0.9993,p(0.9993)))\n",
    "# le calcul de f(0.9993)\n",
    "print('f({})={} '.format(0.9993,f(0.9993)))\n",
    "# le calcul de p(0.9994)\n",
    "print('p({})={} '.format(0.9994,p(0.9994)))\n",
    "# le calcul de f(0.9994)\n",
    "print('f({})={} '.format(0.9994,f(0.9994)))\n",
    "# le calcul de p(0.9995)\n",
    "print('p({})={} '.format(0.9995,p(0.9995)))\n",
    "# le calcul de f(0.9995)\n",
    "print('f({})={} '.format(0.9995,f(0.9995)))\n",
    "# le calcul de p(0.9996)\n",
    "print('p({})={} '.format(0.9996,p(0.9996)))\n",
    "# le calcul de f(0.9996)\n",
    "print('f({})={} '.format(0.9996,f(0.9996)))\n",
    "# le calcul de p(0.9997)\n",
    "print('p({})={} '.format(0.9997,p(0.9997)))\n",
    "# le calcul de f(0.9997)\n",
    "print('f({})={} '.format(0.9997,f(0.9997)))\n",
    "# le calcul de p(0.9998)\n",
    "print('p({})={} '.format(0.9998,p(0.9998)))\n",
    "# le calcul de f(0.9998)\n",
    "print('f({})={} '.format(0.9998,f(0.9998)))\n",
    "# le calcul de p(0.9999)\n",
    "print('p({})={} '.format(0.9999,p(0.9999)))\n",
    "# le calcul de f(0.9999)\n",
    "print('f({})={} '.format(0.9999,f(0.9999)))\n",
    "# le calcul de p(1.000)\n",
    "print('p({})={} '.format(1.000,p(1.000)))\n",
    "# le calcul de f(1.000)\n",
    "print('f({})={} '.format(1.000,f(1.000)))\n",
    "# le calcul de p(1.001)\n",
    "print('p({})={} '.format(1.001,p(1.001)))\n",
    "# le calcul de f(1.001)\n",
    "print('f({})={} '.format(1.001,f(1.001)))\n",
    "# le calcul de p(1.002)\n",
    "print('p({})={} '.format(1.002,p(1.002)))\n",
    "# le calcul de f(1.002)\n",
    "print('f({})={} '.format(1.002,f(1.002)))"
   ]
  },
  {
   "cell_type": "markdown",
   "metadata": {},
   "source": [
    "#### 2) "
   ]
  },
  {
   "cell_type": "code",
   "execution_count": 10,
   "metadata": {},
   "outputs": [
    {
     "data": {
      "image/png": "[encoded data removed]",
      "text/plain": [
       "<Figure size 432x288 with 1 Axes>"
      ]
     },
     "metadata": {
      "needs_background": "light"
     },
     "output_type": "display_data"
    }
   ],
   "source": [
    "import numpy as np\n",
    "import matplotlib.pyplot as plt\n",
    "\n",
    "x= np.linspace(0.998, 1.002, 23)\n",
    "y=p(x) \n",
    "plt.plot(x, y)\n",
    "plt.show()"
   ]
  },
  {
   "cell_type": "code",
   "execution_count": 23,
   "metadata": {},
   "outputs": [
    {
     "data": {
      "image/png": "[encoded data removed]",
      "text/plain": [
       "<Figure size 432x288 with 1 Axes>"
      ]
     },
     "metadata": {
      "needs_background": "light"
     },
     "output_type": "display_data"
    }
   ],
   "source": [
    "import numpy as np\n",
    "import matplotlib.pyplot as plt\n",
    "\n",
    "x= np.linspace(0.998, 1.002, 23)\n",
    "y=f(x) \n",
    "plt.plot(x, y)\n",
    "plt.show()"
   ]
  },
  {
   "cell_type": "markdown",
   "metadata": {},
   "source": [
    "# EXERCICE 2:\n",
    "\n",
    ">On considère l'équation : $$ f(x)=x^3+x^2-3x-3=0$$\n",
    ">1) Dessiner la courbe de $f$ dans l'intervalle $[-2;2]$, puis trouver des intervalles convenables pour appliquer la méthode de >bisection.\n",
    ">\n",
    ">2) Utiliser un programme `dicho.m` qui permettra de trouver les solutions de l'équation $f(x)=0$ avec $eps=0.001$.\n",
    ">\n",
    ">3) Modifier le programme `dicho.m` pour qu'il donne le nombre d'itération nécessaire pour avoir la solution à $eps$ près."
   ]
  },
  {
   "cell_type": "markdown",
   "metadata": {},
   "source": [
    "## 1)"
   ]
  },
  {
   "cell_type": "code",
   "execution_count": 13,
   "metadata": {},
   "outputs": [
    {
     "data": {
      "text/plain": [
       "[<matplotlib.lines.Line2D at 0x182d0dd0c10>]"
      ]
     },
     "execution_count": 13,
     "metadata": {},
     "output_type": "execute_result"
    },
    {
     "data": {
      "image/png": "[encoded data removed]",
      "text/plain": [
       "<Figure size 432x288 with 1 Axes>"
      ]
     },
     "metadata": {
      "needs_background": "light"
     },
     "output_type": "display_data"
    }
   ],
   "source": [
    "import matplotlib.pyplot as plt\n",
    "from numpy import linspace\n",
    "f=lambda x: x**3+x**2-3*x-3\n",
    "T=linspace(-2,2,41)\n",
    "plt.title(\"solution dans [-2:2] \");\n",
    "plt.xlabel(\"x\")\n",
    "plt.ylabel (\"f(x)\")\n",
    "plt.grid(True)\n",
    "plt.plot(T,f(T))\n"
   ]
  },
  {
   "cell_type": "markdown",
   "metadata": {},
   "source": [
    "## 2)"
   ]
  },
  {
   "cell_type": "markdown",
   "metadata": {},
   "source": [
    "### la version python de `dicho`"
   ]
  },
  {
   "cell_type": "code",
   "execution_count": 14,
   "metadata": {},
   "outputs": [],
   "source": [
    "def dicho(a,b,f,n):\n",
    "    '''version itérative '''\n",
    "    pass\n",
    "    "
   ]
  },
  {
   "cell_type": "code",
   "execution_count": 6,
   "metadata": {},
   "outputs": [
    {
     "name": "stdout",
     "output_type": "stream",
     "text": [
      "-1.73193359375\n"
     ]
    }
   ],
   "source": [
    "x3=dicho(-2,-1.5,f,10)\n",
    "#x10=dicho(-2,-1.5,f,10)\n",
    "#x20=dicho(-2,-1.5,f,20)\n",
    "#print(x3,x10,x20)\n",
    "print(x3)"
   ]
  },
  {
   "cell_type": "code",
   "execution_count": 33,
   "metadata": {},
   "outputs": [
    {
     "name": "stdout",
     "output_type": "stream",
     "text": [
      "f(x10)=0.0002971846843138337,f(x20)=9.857414049463387e-07\n"
     ]
    }
   ],
   "source": [
    "print('f(x10)={},f(x20)={}'.format(f(x10),f(x20)))"
   ]
  },
  {
   "cell_type": "code",
   "execution_count": null,
   "metadata": {},
   "outputs": [],
   "source": []
  },
  {
   "cell_type": "code",
   "execution_count": 7,
   "metadata": {},
   "outputs": [],
   "source": [
    "def dichow(a,b,f,eps):\n",
    "    \"\"\"version tant que qui renvoila solution avec le nombre d'''itération \"\"\"\n",
    "    pass"
   ]
  },
  {
   "cell_type": "markdown",
   "metadata": {},
   "source": [
    "- $\\alpha_1 \\in ]-2;-1.5[$ \n",
    "- $\\alpha_2 \\in ]-1.5;-0.5[$ \n",
    "- $\\alpha_3 \\in ]1.5;2[$ "
   ]
  },
  {
   "cell_type": "code",
   "execution_count": 21,
   "metadata": {},
   "outputs": [
    {
     "data": {
      "text/plain": [
       "(-1.73199462890625, 13)"
      ]
     },
     "execution_count": 21,
     "metadata": {},
     "output_type": "execute_result"
    }
   ],
   "source": [
    "dichow(-2,-1.5,f,0.0001)"
   ]
  },
  {
   "cell_type": "markdown",
   "metadata": {},
   "source": [
    "## 3 (OCTAVE MATLAB)"
   ]
  },
  {
   "cell_type": "code",
   "execution_count": 23,
   "metadata": {},
   "outputs": [
    {
     "name": "stdout",
     "output_type": "stream",
     "text": [
      "f =\n",
      "\n",
      "@(x) x .^ 3 + x .^ 2 - 3 * x - 3\n",
      "\n"
     ]
    },
    {
     "data": {
      "image/png": "[encoded data removed]",
      "text/plain": [
       "<IPython.core.display.Image object>"
      ]
     },
     "metadata": {},
     "output_type": "display_data"
    }
   ],
   "source": [
    "f=@(x) x.^3+x.^2-3*x-3\n",
    "t=linspace(1.7,1.75,100);\n",
    "subplot(2,2,1)\n",
    "plot(t,f(t),'r')\n",
    "grid on\n",
    "##########################################\n",
    "t=linspace(1.2,1.4,100);\n",
    "subplot(2,2,2)\n",
    "plot(t,f(t),'r')\n",
    "grid on\n",
    "##########################################\n",
    "t=linspace(1.35,1.4,100);\n",
    "subplot(2,2,3)\n",
    "plot(t,f(t),'r')\n",
    "grid on\n",
    "#########################################\n",
    "t=linspace(1.365,1.367,100);\n",
    "subplot(2,2,4)\n",
    "plot(t,f(t),'r')\n",
    "grid on\n"
   ]
  },
  {
   "cell_type": "code",
   "execution_count": 18,
   "metadata": {},
   "outputs": [
    {
     "data": {
      "text/plain": [
       "3.0"
      ]
     },
     "execution_count": 18,
     "metadata": {},
     "output_type": "execute_result"
    }
   ],
   "source": [
    "import numpy as np\n",
    "np.floor(2.3)\n",
    "np.ceil(2.3)"
   ]
  },
  {
   "cell_type": "code",
   "execution_count": 25,
   "metadata": {},
   "outputs": [
    {
     "data": {
      "text/plain": [
       "-1.0"
      ]
     },
     "execution_count": 25,
     "metadata": {},
     "output_type": "execute_result"
    }
   ],
   "source": [
    "import numpy as np\n",
    "a=-1.5\n",
    "b=-0.5\n",
    "p=8 # précision à 10 ^-8 prés\n",
    "dichow(a,b,f,10**(-p))\n",
    "#à 10^-8\n"
   ]
  },
  {
   "cell_type": "code",
   "execution_count": 29,
   "metadata": {},
   "outputs": [
    {
     "name": "stdout",
     "output_type": "stream",
     "text": [
      "(-1.7314453125, 9)\n",
      "-1.0\n",
      "(1.7314453125, 9)\n",
      "(-1.7314453125, 9)\n",
      "-1.0\n",
      "(1.7314453125, 9)\n"
     ]
    }
   ],
   "source": [
    "interval=[[-2,-1.5],[-1.5,-0.5],[1.5,2]]\n",
    "for u in interval:\n",
    "    print(dichow(u[0],u[1],f,10**(-3)))\n",
    "################################################   \n",
    "print(dichow(-2,-1.5,f,10**(-3)))\n",
    "print(dichow(-1.5,-0.5,f,10**(-3)))\n",
    "print(dichow(1.5,2,f,10**(-3)))\n"
   ]
  },
  {
   "cell_type": "markdown",
   "metadata": {},
   "source": [
    "Le nombre d'itération N nécéssaire à la méthode de la dichotomie pour trouver $\\alpha$ à $10^{-p}$ prés \n",
    "\n",
    "$$N \\geq E\\left(\\dfrac{\\ln(b-a)+p\\ln(10)}{\\ln(2)}\\right)+1$$"
   ]
  },
  {
   "cell_type": "code",
   "execution_count": 56,
   "metadata": {},
   "outputs": [],
   "source": [
    "\n",
    "## Ecrire une fonction qui permet de renvoyer le nombre d'itération nécessaire à la méthode de dichotomie pour calculer\n",
    "## la solution à 10^-p près\n",
    "#ND=lambda p:...............\n"
   ]
  },
  {
   "cell_type": "code",
   "execution_count": 59,
   "metadata": {},
   "outputs": [
    {
     "data": {
      "text/plain": [
       "16.0"
      ]
     },
     "execution_count": 59,
     "metadata": {},
     "output_type": "execute_result"
    }
   ],
   "source": [
    "a=-2\n",
    "b=-1.5\n",
    "ND(5)"
   ]
  },
  {
   "cell_type": "code",
   "execution_count": 60,
   "metadata": {},
   "outputs": [
    {
     "data": {
      "text/plain": [
       "(-1.7320480346679688, 16)"
      ]
     },
     "execution_count": 60,
     "metadata": {},
     "output_type": "execute_result"
    }
   ],
   "source": [
    "#alpha 1\n",
    "dichow(-2,-1.5,f,10**(-5))\n",
    "#à 10^-8"
   ]
  },
  {
   "cell_type": "code",
   "execution_count": 67,
   "metadata": {},
   "outputs": [
    {
     "data": {
      "text/plain": [
       "(-0.9999990081787109, 17)"
      ]
     },
     "execution_count": 67,
     "metadata": {},
     "output_type": "execute_result"
    }
   ],
   "source": [
    "#alpha 2\n",
    "dichow(-1.51,-0.5,f,10**(-5))\n",
    "#à 10^-8"
   ]
  },
  {
   "cell_type": "markdown",
   "metadata": {},
   "source": [
    "## Méthode graphique pour la recherche de la solution "
   ]
  },
  {
   "cell_type": "code",
   "execution_count": 39,
   "metadata": {},
   "outputs": [
    {
     "data": {
      "image/png": "[encoded data removed]",
      "text/plain": [
       "<Figure size 432x288 with 4 Axes>"
      ]
     },
     "metadata": {
      "needs_background": "light"
     },
     "output_type": "display_data"
    }
   ],
   "source": [
    "%matplotlib inline\n",
    "#import mpld3\n",
    "#mpld3.enable_notebook()\n",
    "import numpy as np \n",
    "import matplotlib.pyplot as plt\n",
    "\n",
    "f=lambda x:x**3+x**2-3*x-3\n",
    "\n",
    "t=np.linspace(1.7,1.75,100)\n",
    "plt.subplot(2,2,1)\n",
    "plt.plot(t,f(t),'r')\n",
    "plt.grid(True)\n",
    "##########################################\n",
    "t=np.linspace(1.2,1.4,100)\n",
    "plt.subplot(2,2,2)\n",
    "plt.plot(t,f(t),'r')\n",
    "plt.grid(True)\n",
    "##########################################\n",
    "t=np.linspace(1.35,1.4,100)\n",
    "plt.subplot(2,2,3)\n",
    "plt.plot(t,f(t),'r')\n",
    "plt.grid(True)\n",
    "#########################################\n",
    "t=np.linspace(1.365,1.367,100)\n",
    "plt.subplot(2,2,4)\n",
    "plt.plot(t,f(t),'r')\n",
    "plt.grid(True)\n"
   ]
  },
  {
   "cell_type": "markdown",
   "metadata": {},
   "source": [
    "## Transformer le code précédent pour trouver desvaleurs approchées des solutions $\\alpha_1$, $\\alpha_2$ et $\\alpha_3$ de l'equation (E)"
   ]
  },
  {
   "cell_type": "code",
   "execution_count": null,
   "metadata": {},
   "outputs": [],
   "source": []
  },
  {
   "cell_type": "code",
   "execution_count": null,
   "metadata": {},
   "outputs": [],
   "source": []
  },
  {
   "cell_type": "markdown",
   "metadata": {},
   "source": [
    "# EXERCICE 3:\n",
    ">On considère l'équation : $$ f(x)=x^3+4x^2-10=0$$\n",
    ">1) Dessiner la courbe de $f$ dans l'intervalle $[1;2]$, puis trouver une valeur approché de la solution à 0.001 près (En >utilisant la fonction zoom du graphique).\n",
    ">\n",
    ">2) Vérifier que cette équation est équivalente aux 3 schéma du point fixe suivant:\n",
    ">\n",
    ">a) $g_1(x)=\\frac{1}{2}\\sqrt{10-x^3}=x$.\n",
    ">\n",
    ">b) $g_2(x)=\\sqrt{\\displaystyle\\frac{10}{4+x}}=x$.\n",
    ">\n",
    ">c) $g_3(x)=x-x^3-4x^2+10=x$.\n",
    ">\n",
    ">3) Ecrire puis appliquer  une fonction Matlab que l'on appellera  `pointfixe.m` aux trois schémas précédents en prenant >`x0=1.5;eps=0.001`.\n",
    ">\n",
    ">4) Quelle est la fonction (parmi $g_1, g_2$ et $g_3$) qui donne la convergence la plus rapide?\n",
    ">"
   ]
  },
  {
   "cell_type": "markdown",
   "metadata": {},
   "source": [
    "### Correction <h3>"
   ]
  },
  {
   "cell_type": "markdown",
   "metadata": {},
   "source": [
    "#### 1)<h4>"
   ]
  },
  {
   "cell_type": "code",
   "execution_count": 40,
   "metadata": {},
   "outputs": [
    {
     "data": {
      "image/png": "[encoded data removed]",
      "text/plain": [
       "<Figure size 432x288 with 4 Axes>"
      ]
     },
     "metadata": {
      "needs_background": "light"
     },
     "output_type": "display_data"
    }
   ],
   "source": [
    "%matplotlib inline\n",
    "#import mpld3\n",
    "#mpld3.enable_notebook()\n",
    "import numpy as np \n",
    "import matplotlib.pyplot as plt\n",
    "\n",
    "f=lambda x:x**3+4*x**2-10\n",
    "\n",
    "t=np.linspace(1,2,100)\n",
    "plt.subplot(2,2,1)\n",
    "plt.plot(t,f(t),'r')\n",
    "plt.grid(True)\n",
    "##########################################\n",
    "t=np.linspace(1.2,1.4,100)\n",
    "plt.subplot(2,2,2)\n",
    "plt.plot(t,f(t),'r')\n",
    "plt.grid(True)\n",
    "##########################################\n",
    "t=np.linspace(1.35,1.4,100)\n",
    "plt.subplot(2,2,3)\n",
    "plt.plot(t,f(t),'r')\n",
    "plt.grid(True)\n",
    "#########################################\n",
    "t=np.linspace(1.365,1.367,100)\n",
    "plt.subplot(2,2,4)\n",
    "plt.plot(t,f(t),'r')\n",
    "plt.grid(True)\n"
   ]
  },
  {
   "cell_type": "markdown",
   "metadata": {},
   "source": [
    "#### 2) Justification théorique pour la fonction g1"
   ]
  },
  {
   "cell_type": "markdown",
   "metadata": {},
   "source": [
    "On considère l'équation : $$ f(x)=x^3+4x^2-10=0$$\n",
    "\n",
    "a) $g(x)=\\frac{1}{2}\\sqrt{10-x^3}=x$."
   ]
  },
  {
   "cell_type": "markdown",
   "metadata": {},
   "source": [
    " $$x^3+4x^2-10=0$$ \n",
    "    \n",
    " $$4x^2=10-x^3$$\n",
    " \n",
    " $$2x=\\sqrt{10-x^3}$$\n",
    " \n",
    " $$x=\\frac{1}{2}\\sqrt{10-x^3}$$\n",
    " \n",
    "Donc $ f(x)=g(x)$"
   ]
  },
  {
   "cell_type": "markdown",
   "metadata": {},
   "source": [
    "## Calcul symbolique de la dérivée"
   ]
  },
  {
   "cell_type": "code",
   "execution_count": 63,
   "metadata": {},
   "outputs": [],
   "source": [
    "from sympy import *\n",
    "import numpy as np\n",
    "x, y, z = symbols('x y z')\n",
    "init_printing(use_unicode=True)\n",
    "g1=lambda x: 1/2*sqrt(10-x**3)\n"
   ]
  },
  {
   "cell_type": "code",
   "execution_count": 76,
   "metadata": {},
   "outputs": [
    {
     "data": {
      "image/png": "[encoded data removed]",
      "text/latex": [
       "$$-0.5117446282927461$$"
      ],
      "text/plain": [
       "-0.5117446282927461"
      ]
     },
     "execution_count": 76,
     "metadata": {},
     "output_type": "execute_result"
    }
   ],
   "source": [
    "dg1=lambdify(x,diff(g1(x),x,1))\n",
    "dg1(1.365)"
   ]
  },
  {
   "cell_type": "markdown",
   "metadata": {},
   "source": [
    "### Que pouvez vous conclure à propos des convergences de g1"
   ]
  },
  {
   "cell_type": "code",
   "execution_count": null,
   "metadata": {},
   "outputs": [],
   "source": []
  },
  {
   "cell_type": "markdown",
   "metadata": {},
   "source": [
    "## Justification théoriques pour g2 et g3"
   ]
  },
  {
   "cell_type": "markdown",
   "metadata": {},
   "source": [
    "On considère l'équation : $$ f(x)=x^3+4x^2-10=0$$\n",
    "\n",
    "b) $g(x)=\\sqrt{\\displaystyle\\frac{10}{4+x}}=x$."
   ]
  },
  {
   "cell_type": "markdown",
   "metadata": {},
   "source": [
    "$$x^3+4x^2-10=0$$\n",
    "$$x^3+4x^2=10$$\n",
    "$$x^2(x+4)=10$$\n",
    "$$x^2=\\frac{10}{x+4}$$\n",
    "$$x=\\sqrt{\\displaystyle\\frac{10}{4+x}}$$\n",
    "Donc $ f(x)=g(x)$"
   ]
  },
  {
   "cell_type": "markdown",
   "metadata": {},
   "source": [
    "On considère l'équation : $$ f(x)=x^3+4x^2-10=0$$\n",
    "c) $g(x)=x-x^3-4x^2+10=x$."
   ]
  },
  {
   "cell_type": "markdown",
   "metadata": {},
   "source": [
    "$$x^3+4x^2-10=0$$\n",
    "$$x^3+4x^2-10+x-x=0$$\n",
    "$$x^3-4x^2+x-x=10$$\n",
    "$$x^3-4x^2+x=x+10$$\n",
    "$$4x^2+x=x-x^3+10$$\n",
    "$$x=x-x^3-4x^2+10$$\n",
    "Donc $ f(x)=g(x)$"
   ]
  },
  {
   "cell_type": "markdown",
   "metadata": {},
   "source": [
    "## Etudier théoriquement la convergences de g2 et g3"
   ]
  },
  {
   "cell_type": "code",
   "execution_count": null,
   "metadata": {},
   "outputs": [],
   "source": []
  },
  {
   "cell_type": "code",
   "execution_count": null,
   "metadata": {},
   "outputs": [],
   "source": []
  },
  {
   "cell_type": "code",
   "execution_count": null,
   "metadata": {},
   "outputs": [],
   "source": []
  },
  {
   "cell_type": "markdown",
   "metadata": {},
   "source": [
    "### Méthode numérique avec MATLAB/OCTAVE"
   ]
  },
  {
   "cell_type": "code",
   "execution_count": 1,
   "metadata": {},
   "outputs": [
    {
     "name": "stdout",
     "output_type": "stream",
     "text": [
      "f =\n",
      "\n",
      "@(x) x .^ 3 + 4 * x .^ 2 - 10\n",
      "\n",
      "g1 =\n",
      "\n",
      "@(x) 1 / 2 * sqrt (10 - x .^ 3)\n",
      "\n",
      "g2 =\n",
      "\n",
      "@(x) sqrt (10 ./ (x + 4))\n",
      "\n",
      "g3 =\n",
      "\n",
      "@(x) x - x .^ 3 - 4 * x .^ 2 + 10\n",
      "\n"
     ]
    }
   ],
   "source": [
    "f=@(x) x.^3+4*x.^2-10 # la fonction f\n",
    "g1=@(x) 1/2*sqrt(10-x.^3)\n",
    "g2=@(x) sqrt(10./(x+4))\n",
    "g3=@(x) x-x.^3-4*x.^2 + 10\n",
    "\n",
    "function [zero,erreur,niter]=pointfixe(g,x0,eps,nmax)\n",
    "zero=x0;\n",
    "for niter=1:nmax\n",
    "    x=zero; % \n",
    "    zero=g(x);\t% \n",
    "    erreur=abs(zero-x);\n",
    "    if erreur<eps \n",
    "        return\n",
    "    end\n",
    "end\n",
    "disp('pas de convergence avec le nombre d''iteration indique')\n",
    "end"
   ]
  },
  {
   "cell_type": "code",
   "execution_count": 3,
   "metadata": {},
   "outputs": [
    {
     "name": "stdout",
     "output_type": "stream",
     "text": [
      "x =  1.3654\n",
      "erreur =  0.00053184\n",
      "niter =  10\n"
     ]
    }
   ],
   "source": [
    "[x,erreur,niter]=pointfixe(g1,1.5,0.001,50)"
   ]
  },
  {
   "cell_type": "code",
   "execution_count": 4,
   "metadata": {},
   "outputs": [
    {
     "name": "stdout",
     "output_type": "stream",
     "text": [
      "x =  1.3653\n",
      "erreur =  0.00030773\n",
      "niter =  4\n"
     ]
    }
   ],
   "source": [
    "[x,erreur,niter]=pointfixe(g2,1.5,0.001,50)"
   ]
  },
  {
   "cell_type": "code",
   "execution_count": 2,
   "metadata": {},
   "outputs": [
    {
     "name": "stdout",
     "output_type": "stream",
     "text": [
      "pas de convergence avec le nombre d'iteration indique\n",
      "x =  NaN\n",
      "erreur =  NaN\n",
      "niter =  50\n"
     ]
    }
   ],
   "source": [
    "[x,erreur,niter]=pointfixe(g3,1.5,0.001,50)"
   ]
  },
  {
   "cell_type": "markdown",
   "metadata": {},
   "source": [
    "#### 4)<h4>"
   ]
  },
  {
   "cell_type": "markdown",
   "metadata": {},
   "source": [
    "### Donner la solution avec un codepython \n"
   ]
  },
  {
   "cell_type": "code",
   "execution_count": 94,
   "metadata": {},
   "outputs": [],
   "source": [
    "f=lambda x:  x**3+4*x**2-10 # la fonction f\n",
    "g1=lambda x: 1/2*sqrt(10-x**3)\n",
    "g2=lambda x: sqrt(10/(x+4))\n",
    "g3=lambda x: x-x**3-4*x**2 + 10\n",
    "\n",
    "\n",
    "def ptfixe(g,x0,eps,nmax):\n",
    "    pass\n",
    "\n",
    "\n",
    "\n",
    "\n",
    "\n",
    "    print('pas de convergence avec le nombre d''iteration indique')\n",
    "\n"
   ]
  },
  {
   "cell_type": "code",
   "execution_count": null,
   "metadata": {},
   "outputs": [],
   "source": [
    "ptfixe(g3,1.5,0.0001,30)"
   ]
  },
  {
   "cell_type": "markdown",
   "metadata": {},
   "source": [
    "### quelle est la fonction qui donne la convergence la plus rapide ??\n",
    "\n",
    "Donner le nombre d'itération pour chaque méthode convergent e\n",
    "+ $g_2$ donne le resultat en ? itérations \n",
    "+ $g_1$ donne le resultat en ?\n",
    "+ $g_3$ est - elle convergente?"
   ]
  },
  {
   "cell_type": "code",
   "execution_count": null,
   "metadata": {},
   "outputs": [],
   "source": []
  },
  {
   "cell_type": "code",
   "execution_count": null,
   "metadata": {},
   "outputs": [],
   "source": []
  },
  {
   "cell_type": "code",
   "execution_count": null,
   "metadata": {},
   "outputs": [],
   "source": []
  },
  {
   "cell_type": "markdown",
   "metadata": {},
   "source": [
    "# EXERCICE 4:\n",
    ">1) On considère la fonction $f(x)=e^{-x}-x$. Ecrire puis appliquer  une fonction Matlab que l'on appellera `newton.m` à la >fonction $f$, en prenant $x0=0$, $eps=0.001$ .\n",
    ">\n",
    ">2) Montrer que l'équation $f(x)=0$ admet une solution unique que l'on peut obtenir en utilisant la méthode de Newton à partir >de $x0=1$."
   ]
  },
  {
   "cell_type": "markdown",
   "metadata": {},
   "source": [
    "### Correction MATLAB "
   ]
  },
  {
   "cell_type": "markdown",
   "metadata": {},
   "source": [
    "#### 1) <h4>"
   ]
  },
  {
   "cell_type": "code",
   "execution_count": null,
   "metadata": {},
   "outputs": [],
   "source": [
    "function sol=newtonn(a,eps)\n",
    "x1=a;\n",
    "x2=x1-f(x1)/fprime(x1);\n",
    "\n",
    "while abs(x1-x2)>eps\n",
    "     x1=x2;\n",
    "     x2=x1-f(x1)/fprime(x1);\n",
    "end\n",
    "sol=x2;"
   ]
  },
  {
   "cell_type": "code",
   "execution_count": null,
   "metadata": {},
   "outputs": [],
   "source": [
    "f=@(x) exp(-x)-x\n",
    "fprime=@(x) -exp(-x)-1\n",
    "t=linspace(0,1,100);\n",
    "plot(t,f(t))\n",
    "grid on"
   ]
  },
  {
   "cell_type": "code",
   "execution_count": null,
   "metadata": {},
   "outputs": [],
   "source": [
    "sol=newton(0,0.001)"
   ]
  },
  {
   "cell_type": "markdown",
   "metadata": {},
   "source": [
    "#### 2) <h4>"
   ]
  },
  {
   "cell_type": "code",
   "execution_count": null,
   "metadata": {},
   "outputs": [],
   "source": [
    "sol=newton(1,0.001)"
   ]
  },
  {
   "cell_type": "markdown",
   "metadata": {},
   "source": [
    "### Solution Python"
   ]
  },
  {
   "cell_type": "markdown",
   "metadata": {},
   "source": [
    "## Donner la solution entière avecun code python"
   ]
  },
  {
   "cell_type": "code",
   "execution_count": null,
   "metadata": {},
   "outputs": [],
   "source": []
  }
 ],
 "metadata": {
  "kernelspec": {
   "display_name": "Python 3",
   "language": "python",
   "name": "python3"
  },
  "language_info": {
   "codemirror_mode": {
    "name": "ipython",
    "version": 3
   },
   "file_extension": ".py",
   "mimetype": "text/x-python",
   "name": "python",
   "nbconvert_exporter": "python",
   "pygments_lexer": "ipython3",
   "version": "3.8.8"
  }
 },
 "nbformat": 4,
 "nbformat_minor": 2
}
